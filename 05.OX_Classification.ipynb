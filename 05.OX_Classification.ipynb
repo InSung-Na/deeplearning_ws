{
 "cells": [
  {
   "attachments": {},
   "cell_type": "markdown",
   "metadata": {},
   "source": [
    "# OX Classification"
   ]
  },
  {
   "attachments": {},
   "cell_type": "markdown",
   "metadata": {},
   "source": [
    "## 1. 개요\n",
    "- 딥러닝 기초 이진분류에 대해 학습한다\n",
    "- 데이터셋 : OX Images\n",
    "- _데이터셋을 얻지 못했다_\n",
    "    - 결과는 학습자료를 보고, 코드만 입력하면서 학습한다"
   ]
  },
  {
   "attachments": {},
   "cell_type": "markdown",
   "metadata": {},
   "source": [
    "## 2. 데이터 수집\n",
    "- 데이터셋 없음\n",
    "- 코드만 입력"
   ]
  },
  {
   "attachments": {},
   "cell_type": "markdown",
   "metadata": {},
   "source": [
    "## 3. 데이터 전처리\n",
    "- 이미지 불러오기(실행X)\n",
    "- train_test별로 크기 조정\n",
    "- 이미지 제네레이터"
   ]
  },
  {
   "attachments": {},
   "cell_type": "markdown",
   "metadata": {},
   "source": [
    "### 3-1. 이미지 조정"
   ]
  },
  {
   "cell_type": "code",
   "execution_count": 39,
   "metadata": {},
   "outputs": [
    {
     "data": {
      "text/plain": [
       "[]"
      ]
     },
     "execution_count": 39,
     "metadata": {},
     "output_type": "execute_result"
    }
   ],
   "source": [
    "from glob import glob\n",
    "\n",
    "train_raw_path = \"./train_raw/O/*.\"\n",
    "train_raw_O_list = glob(train_raw_path)\n",
    "train_raw_O_list"
   ]
  },
  {
   "attachments": {},
   "cell_type": "markdown",
   "metadata": {},
   "source": [
    "#### img_resize"
   ]
  },
  {
   "cell_type": "code",
   "execution_count": 44,
   "metadata": {},
   "outputs": [],
   "source": [
    "# !pip install scikit-image"
   ]
  },
  {
   "cell_type": "code",
   "execution_count": 47,
   "metadata": {},
   "outputs": [],
   "source": [
    "from skimage.transform import rescale, resize\n",
    "from skimage import color\n",
    "from skimage.io import imread, imsave\n",
    "import matplotlib.pyplot as plt\n",
    "import numpy as np"
   ]
  },
  {
   "cell_type": "code",
   "execution_count": 43,
   "metadata": {},
   "outputs": [],
   "source": [
    "def img_resize(img):\n",
    "    img = color.rgb2gray(img)\n",
    "    return resize(img, (28,28))"
   ]
  },
  {
   "attachments": {},
   "cell_type": "markdown",
   "metadata": {},
   "source": [
    "#### train_O"
   ]
  },
  {
   "cell_type": "code",
   "execution_count": null,
   "metadata": {},
   "outputs": [],
   "source": [
    "from tqdm.notebook import tqdm\n",
    "\n",
    "def convert_train_O():\n",
    "    train_raw_O_list = glob(train_raw_path)\n",
    "    for each in tqdm(train_raw_O_list):\n",
    "        img = imread(each)\n",
    "        img_resized = img_resize(img)\n",
    "        save_name = \"./train/O/\" + each.split(\"/\")[-1][:-4] + \".png\"    # rename\n",
    "        imsave(save_name, np.round(img_resized*255).astype(int))\n",
    "        \n",
    "convert_train_O()"
   ]
  },
  {
   "cell_type": "code",
   "execution_count": null,
   "metadata": {},
   "outputs": [],
   "source": []
  },
  {
   "attachments": {},
   "cell_type": "markdown",
   "metadata": {},
   "source": [
    "#### train_X"
   ]
  },
  {
   "cell_type": "code",
   "execution_count": null,
   "metadata": {},
   "outputs": [],
   "source": [
    "from tqdm.notebook import tqdm\n",
    "\n",
    "train_raw_path = \"./train_raw/X/*.\"\n",
    "def convert_train_X():\n",
    "    train_raw_X_list = glob(train_raw_path)\n",
    "    for each in tqdm(train_raw_X_list):\n",
    "        img = imread(each)\n",
    "        img_resized = img_resize(img)\n",
    "        save_name = \"./train/X/\" + each.split(\"/\")[-1][:-4] + \".png\"    # rename\n",
    "        imsave(save_name, np.round(img_resized*255).astype(int))\n",
    "        \n",
    "convert_train_X()"
   ]
  },
  {
   "cell_type": "code",
   "execution_count": null,
   "metadata": {},
   "outputs": [],
   "source": []
  },
  {
   "attachments": {},
   "cell_type": "markdown",
   "metadata": {},
   "source": [
    "#### test_O"
   ]
  },
  {
   "cell_type": "code",
   "execution_count": null,
   "metadata": {},
   "outputs": [],
   "source": [
    "from tqdm.notebook import tqdm\n",
    "\n",
    "test_raw_path = \"\"\n",
    "def convert_test_O():\n",
    "    test_raw_O_list = glob(test_raw_path)\n",
    "    for each in tqdm(test_raw_O_list):\n",
    "        img = imread(each)\n",
    "        img_resized = img_resize(img)\n",
    "        save_name = \"./test/O/\" + each.split(\"/\")[-1][:-4] + \".png\"    # rename\n",
    "        imsave(save_name, np.round(img_resized*255).astype(int))\n",
    "        \n",
    "convert_test_O()"
   ]
  },
  {
   "cell_type": "code",
   "execution_count": null,
   "metadata": {},
   "outputs": [],
   "source": []
  },
  {
   "attachments": {},
   "cell_type": "markdown",
   "metadata": {},
   "source": [
    "#### test_X"
   ]
  },
  {
   "cell_type": "code",
   "execution_count": null,
   "metadata": {},
   "outputs": [],
   "source": [
    "from tqdm.notebook import tqdm\n",
    "\n",
    "test_raw_path = \"\"\n",
    "def convert_test_X():\n",
    "    test_raw_X_list = glob(test_raw_path)\n",
    "    for each in tqdm(test_raw_X_list):\n",
    "        img = imread(each)\n",
    "        img_resized = img_resize(img)\n",
    "        save_name = \"./test/X/\" + each.split(\"/\")[-1][:-4] + \".png\"    # rename\n",
    "        imsave(save_name, np.round(img_resized*255).astype(int))\n",
    "        \n",
    "convert_test_X()"
   ]
  },
  {
   "cell_type": "code",
   "execution_count": null,
   "metadata": {},
   "outputs": [],
   "source": []
  },
  {
   "attachments": {},
   "cell_type": "markdown",
   "metadata": {},
   "source": [
    "### 3-2. Image_generator"
   ]
  },
  {
   "cell_type": "code",
   "execution_count": 51,
   "metadata": {},
   "outputs": [],
   "source": [
    "import numpy as np\n",
    "from keras.models import Sequential\n",
    "from keras.layers import Dense, Flatten\n",
    "from keras.layers.convolutional import Conv2D, MaxPooling2D\n",
    "from keras.preprocessing.image import ImageDataGenerator\n",
    "import keras\n",
    "\n",
    "np.random.seed(13)"
   ]
  },
  {
   "cell_type": "code",
   "execution_count": null,
   "metadata": {},
   "outputs": [],
   "source": [
    "train_datagen = ImageDataGenerator(rescale=1./255)\n",
    "\n",
    "train_generator = train_datagen.flow_from_directory(\"./train\", target_size=(28,28), batch_size=3, class_mode=\"categorical\")\n",
    "\n",
    "test_datagen = ImageDataGenerator(rescale=1./255)\n",
    "\n",
    "test_generator = test_datagen.flow_from_directory(\"./test\", target_size=(28,28), batch_size=3, class_mode=\"categorical\")"
   ]
  },
  {
   "attachments": {},
   "cell_type": "markdown",
   "metadata": {},
   "source": [
    "## 4. 모델링"
   ]
  },
  {
   "cell_type": "code",
   "execution_count": null,
   "metadata": {},
   "outputs": [],
   "source": [
    "model = Sequential()\n",
    "model.add(Conv2D(32, kernel_size=(3,3), activation=\"relu\", input_shape=(28,28,3)))\n",
    "model.add(Conv2D(64, kernel_size=(3,3), activation=\"relu\"))\n",
    "model.add(MaxPooling2D(pool_size=(2,2)))\n",
    "model.add(Flatten())\n",
    "model.add(Dense(128, activation=\"relu\"))\n",
    "model.add(Dense(2, activation=\"softmax\"))\n",
    "\n",
    "model.compile(loss=\"categorical_crossentropy\", optimizer=\"adam\", metrics=[\"accuracy\"])\n",
    "\n",
    "hist = model.fit_generator(train_generator, steps_per_epoch=15, epochs=50, validation_data=test_generator, validation_steps=5)"
   ]
  },
  {
   "cell_type": "code",
   "execution_count": null,
   "metadata": {},
   "outputs": [],
   "source": [
    "plt.figure(figsize=(12,6))\n",
    "plt.plot(hist.history[\"loss\"], label=\"loss\")\n",
    "plt.plot(hist.history[\"val_loss\"], label=\"val_loss\")\n",
    "plt.plot(hist.history[\"accuracy\"], label=\"accuracy\")\n",
    "plt.plot(hist.history[\"val_accuracy\"], label=\"val_accuracy\")\n",
    "plt.legend()\n",
    "plt.show()"
   ]
  },
  {
   "attachments": {},
   "cell_type": "markdown",
   "metadata": {},
   "source": [
    "## 5. 모델 평가"
   ]
  },
  {
   "cell_type": "code",
   "execution_count": null,
   "metadata": {},
   "outputs": [],
   "source": [
    "scores = model.evalute(test_generator, steps=5)\n",
    "\n",
    "print(\"%s: %.2f%%\" %(model.metrics_names[1], scores[1]*100))"
   ]
  },
  {
   "cell_type": "code",
   "execution_count": null,
   "metadata": {},
   "outputs": [],
   "source": [
    "model.predict(test_generator)"
   ]
  },
  {
   "cell_type": "code",
   "execution_count": null,
   "metadata": {},
   "outputs": [],
   "source": [
    "n = 1\n",
    "\n",
    "def show_prediction_result(n):\n",
    "    img = imread(test_generator.filepaths[n])\n",
    "    pred = model.predict(np.expand_dims(color.gray2rgb(img), axis=0))\n",
    "    title = \"Predict : \" + str(np.argmax(pred))\n",
    "    plt.imshow(img/255., cmap=\"gray\")\n",
    "    plt.title(title)\n",
    "    plt.show()\n",
    "    \n",
    "show_prediction_result(n)"
   ]
  }
 ],
 "metadata": {
  "kernelspec": {
   "display_name": "Python 3",
   "language": "python",
   "name": "python3"
  },
  "language_info": {
   "codemirror_mode": {
    "name": "ipython",
    "version": 3
   },
   "file_extension": ".py",
   "mimetype": "text/x-python",
   "name": "python",
   "nbconvert_exporter": "python",
   "pygments_lexer": "ipython3",
   "version": "3.11.3"
  },
  "orig_nbformat": 4
 },
 "nbformat": 4,
 "nbformat_minor": 2
}
